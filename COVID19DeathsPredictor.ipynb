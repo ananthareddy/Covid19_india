{
 "cells": [
  {
   "cell_type": "markdown",
   "metadata": {
    "colab_type": "text",
    "id": "view-in-github"
   },
   "source": [
    "<a href=\"https://colab.research.google.com/github/anaiy2004/COVID-19-Predictor/blob/master/COVID19DeathsPredictor.ipynb\" target=\"_parent\"><img src=\"https://colab.research.google.com/assets/colab-badge.svg\" alt=\"Open In Colab\"/></a>"
   ]
  },
  {
   "cell_type": "code",
   "execution_count": 1,
   "metadata": {
    "colab": {
     "base_uri": "https://localhost:8080/",
     "height": 204
    },
    "colab_type": "code",
    "id": "YueyapyFs50k",
    "outputId": "0eb763ee-c668-47c3-9cd0-7006dc96feab"
   },
   "outputs": [
    {
     "name": "stderr",
     "output_type": "stream",
     "text": [
      "Using TensorFlow backend.\n"
     ]
    },
    {
     "data": {
      "text/html": [
       "<div>\n",
       "<style scoped>\n",
       "    .dataframe tbody tr th:only-of-type {\n",
       "        vertical-align: middle;\n",
       "    }\n",
       "\n",
       "    .dataframe tbody tr th {\n",
       "        vertical-align: top;\n",
       "    }\n",
       "\n",
       "    .dataframe thead th {\n",
       "        text-align: right;\n",
       "    }\n",
       "</style>\n",
       "<table border=\"1\" class=\"dataframe\">\n",
       "  <thead>\n",
       "    <tr style=\"text-align: right;\">\n",
       "      <th></th>\n",
       "      <th>date</th>\n",
       "      <th>cases</th>\n",
       "      <th>deaths</th>\n",
       "    </tr>\n",
       "  </thead>\n",
       "  <tbody>\n",
       "    <tr>\n",
       "      <td>173</td>\n",
       "      <td>2020-07-12</td>\n",
       "      <td>3318347</td>\n",
       "      <td>134977</td>\n",
       "    </tr>\n",
       "    <tr>\n",
       "      <td>174</td>\n",
       "      <td>2020-07-13</td>\n",
       "      <td>3379859</td>\n",
       "      <td>135402</td>\n",
       "    </tr>\n",
       "    <tr>\n",
       "      <td>175</td>\n",
       "      <td>2020-07-14</td>\n",
       "      <td>3445483</td>\n",
       "      <td>136356</td>\n",
       "    </tr>\n",
       "    <tr>\n",
       "      <td>176</td>\n",
       "      <td>2020-07-15</td>\n",
       "      <td>3512791</td>\n",
       "      <td>137319</td>\n",
       "    </tr>\n",
       "    <tr>\n",
       "      <td>177</td>\n",
       "      <td>2020-07-16</td>\n",
       "      <td>3588462</td>\n",
       "      <td>138268</td>\n",
       "    </tr>\n",
       "  </tbody>\n",
       "</table>\n",
       "</div>"
      ],
      "text/plain": [
       "           date    cases  deaths\n",
       "173  2020-07-12  3318347  134977\n",
       "174  2020-07-13  3379859  135402\n",
       "175  2020-07-14  3445483  136356\n",
       "176  2020-07-15  3512791  137319\n",
       "177  2020-07-16  3588462  138268"
      ]
     },
     "execution_count": 1,
     "metadata": {},
     "output_type": "execute_result"
    }
   ],
   "source": [
    "import csv\n",
    "import keras\n",
    "import pandas\n",
    "from keras.models import Model\n",
    "from keras.layers import Dense, Dropout, LSTM, Input, Activation, concatenate, BatchNormalization, Conv1D, Conv2D, Flatten, MaxPooling1D\n",
    "from keras import optimizers\n",
    "import numpy as np\n",
    "import tensorflow as tf\n",
    "import math\n",
    "from keras.callbacks import EarlyStopping, ModelCheckpoint\n",
    "url = 'https://raw.githubusercontent.com/nytimes/covid-19-data/master/us.csv'\n",
    "df = pandas.read_csv(url)\n",
    "inputs = df['cases'].to_numpy()             \n",
    "outputs = df['deaths'].to_numpy()\n",
    "df.tail(5)\n"
   ]
  },
  {
   "cell_type": "code",
   "execution_count": 3,
   "metadata": {
    "colab": {
     "base_uri": "https://localhost:8080/",
     "height": 290
    },
    "colab_type": "code",
    "id": "Jw0PUC21YXdA",
    "outputId": "945701dc-fe91-4995-c01b-a05e3c81164a"
   },
   "outputs": [
    {
     "data": {
      "image/png": "[encoded data removed]",
      "text/plain": [
       "<Figure size 432x288 with 1 Axes>"
      ]
     },
     "metadata": {
      "needs_background": "light"
     },
     "output_type": "display_data"
    }
   ],
   "source": [
    "from matplotlib import pyplot as plt\n",
    "plt.plot(inputs)\n",
    "plt.ylabel('deaths')\n",
    "plt.xlabel('time')\n",
    "plt.show()"
   ]
  },
  {
   "cell_type": "code",
   "execution_count": 4,
   "metadata": {
    "colab": {},
    "colab_type": "code",
    "id": "ryTSOPgmsWef"
   },
   "outputs": [],
   "source": [
    "past = 5\n",
    "s = (len(inputs) , past  * 2)\n",
    "betterinputs = np.zeros(s)\n",
    "betteroutputs = np.zeros(len(inputs))\n",
    "\n",
    "for i in range(len(inputs) - past):\n",
    "  temp = np.zeros(past * 2)\n",
    "  temp[0 : past] = inputs[i : i+ past]\n",
    "  temp[past:] = outputs[i : i + past] \n",
    "  betterinputs[i] = temp\n",
    "  betteroutputs[i] = outputs[i+past]"
   ]
  },
  {
   "cell_type": "code",
   "execution_count": 5,
   "metadata": {
    "colab": {},
    "colab_type": "code",
    "id": "B9AeJU4_-8E-"
   },
   "outputs": [],
   "source": [
    "\n",
    "betterinputs = betterinputs[0:len(df)-past] \n",
    "betteroutputs = betteroutputs[0:len(df)-past]"
   ]
  },
  {
   "cell_type": "code",
   "execution_count": 6,
   "metadata": {
    "colab": {
     "base_uri": "https://localhost:8080/",
     "height": 333
    },
    "colab_type": "code",
    "id": "3VDXyY4VDo1P",
    "outputId": "a406bf36-096b-4bb9-fc7e-df6ae1188075"
   },
   "outputs": [
    {
     "name": "stdout",
     "output_type": "stream",
     "text": [
      "803.8837209302326\n"
     ]
    },
    {
     "data": {
      "text/plain": [
       "<matplotlib.legend.Legend at 0xa5e26e1348>"
      ]
     },
     "execution_count": 6,
     "metadata": {},
     "output_type": "execute_result"
    },
    {
     "data": {
      "image/png": "[encoded data removed]",
      "text/plain": [
       "<Figure size 432x288 with 1 Axes>"
      ]
     },
     "metadata": {
      "needs_background": "light"
     },
     "output_type": "display_data"
    }
   ],
   "source": [
    "#Creating a benchmark\n",
    "benchmark = []\n",
    "for i in range(1, len(betteroutputs)):\n",
    "   benchmark.append(betteroutputs[i])\n",
    "sum = 0\n",
    "for i in range(len(betteroutputs) - 1):\n",
    "  sum += abs(float(betteroutputs[i]) - float(benchmark[i]))\n",
    "print(sum / float(len(benchmark)))\n",
    "\n",
    "plt.semilogy(benchmark, label = \"benchmark\")\n",
    "plt.semilogy(betteroutputs , label = \"betteroutputs\")\n",
    "plt.semilogx(inputs, label = \"cases\")\n",
    "plt.title('model accuracy')\n",
    "plt.ylabel('deaths')\n",
    "plt.xlabel('cases')\n",
    "plt.legend()\n"
   ]
  },
  {
   "cell_type": "code",
   "execution_count": 7,
   "metadata": {
    "colab": {},
    "colab_type": "code",
    "id": "QwP8D9gOFx5A"
   },
   "outputs": [],
   "source": [
    "split = int(0.8*len(betterinputs))\n",
    "X_train, X_test, y_train, y_test = betterinputs[:split], betterinputs[split:], betteroutputs[:split], betteroutputs[split:]\n",
    "X_train = np.expand_dims(X_train, axis=2)  \n",
    "X_test = np.expand_dims(X_test, axis=2) \n",
    "\n"
   ]
  },
  {
   "cell_type": "code",
   "execution_count": 8,
   "metadata": {
    "colab": {
     "base_uri": "https://localhost:8080/",
     "height": 34
    },
    "colab_type": "code",
    "id": "D0IHXaR5ztr8",
    "outputId": "1360783c-b5d9-430c-fe97-62ead3b8e185"
   },
   "outputs": [
    {
     "name": "stdout",
     "output_type": "stream",
     "text": [
      "514.6978649568262\n"
     ]
    },
    {
     "name": "stderr",
     "output_type": "stream",
     "text": [
      "C:\\Users\\Saanvi\\Anaconda3\\lib\\site-packages\\sklearn\\model_selection\\_search.py:814: DeprecationWarning: The default of the `iid` parameter will change from True to False in version 0.22 and will be removed in 0.24. This will change numeric results when test-set sizes are unequal.\n",
      "  DeprecationWarning)\n"
     ]
    }
   ],
   "source": [
    "from sklearn.linear_model import RidgeCV\n",
    "model = RidgeCV(cv=5)\n",
    "X_train, X_test, y_train, y_test = betterinputs[:split], betterinputs[split:], betteroutputs[:split], betteroutputs[split:]\n",
    "model.fit(X_train, y_train)\n",
    "print(\"{}\".format(np.linalg.norm(model.predict(X_test) - y_test, 1)/len(y_test)))"
   ]
  },
  {
   "cell_type": "code",
   "execution_count": 9,
   "metadata": {
    "colab": {
     "base_uri": "https://localhost:8080/",
     "height": 34
    },
    "colab_type": "code",
    "id": "a7TJuDEQ1Ekd",
    "outputId": "27227334-b799-48aa-a55d-89ddb23f653c"
   },
   "outputs": [
    {
     "data": {
      "text/plain": [
       "10.0"
      ]
     },
     "execution_count": 9,
     "metadata": {},
     "output_type": "execute_result"
    }
   ],
   "source": [
    "model.alpha_"
   ]
  },
  {
   "cell_type": "code",
   "execution_count": 10,
   "metadata": {
    "colab": {
     "base_uri": "https://localhost:8080/",
     "height": 312
    },
    "colab_type": "code",
    "id": "ZRy9LqStXN6q",
    "outputId": "87680101-34dd-442c-c0d1-295fc333bbf5"
   },
   "outputs": [
    {
     "data": {
      "text/plain": [
       "<matplotlib.legend.Legend at 0xa5e76d9bc8>"
      ]
     },
     "execution_count": 10,
     "metadata": {},
     "output_type": "execute_result"
    },
    {
     "data": {
      "image/png": "[encoded data removed]",
      "text/plain": [
       "<Figure size 432x288 with 1 Axes>"
      ]
     },
     "metadata": {
      "needs_background": "light"
     },
     "output_type": "display_data"
    }
   ],
   "source": [
    "predict = model.predict(X_test)\n",
    "plt.semilogy(predict, label = \"model predictions\")\n",
    "plt.semilogy(y_test , label = \"real values\")\n",
    "plt.title('model accuracy on testing data')\n",
    "plt.ylabel('deaths')\n",
    "plt.xlabel('cases')\n",
    "plt.legend()"
   ]
  },
  {
   "cell_type": "code",
   "execution_count": null,
   "metadata": {},
   "outputs": [],
   "source": []
  }
 ],
 "metadata": {
  "accelerator": "GPU",
  "colab": {
   "collapsed_sections": [],
   "include_colab_link": true,
   "name": "COVID19-DeathsPredictor.ipynb",
   "provenance": []
  },
  "kernelspec": {
   "display_name": "Python 3",
   "language": "python",
   "name": "python3"
  },
  "language_info": {
   "codemirror_mode": {
    "name": "ipython",
    "version": 3
   },
   "file_extension": ".py",
   "mimetype": "text/x-python",
   "name": "python",
   "nbconvert_exporter": "python",
   "pygments_lexer": "ipython3",
   "version": "3.7.4"
  }
 },
 "nbformat": 4,
 "nbformat_minor": 1
}
